{
 "cells": [
  {
   "cell_type": "markdown",
   "id": "b05d5153",
   "metadata": {},
   "source": [
    "# Text2Chart (first prototype)"
   ]
  },
  {
   "cell_type": "markdown",
   "id": "93e97945",
   "metadata": {},
   "source": [
    "## Auto Speech Recognition"
   ]
  },
  {
   "cell_type": "code",
   "execution_count": 1,
   "id": "0bef3c40",
   "metadata": {},
   "outputs": [],
   "source": [
    "from transformers import pipeline#, T5Tokenizer, T5ForConditionalGeneration"
   ]
  },
  {
   "cell_type": "code",
   "execution_count": 17,
   "id": "296bfabd",
   "metadata": {},
   "outputs": [],
   "source": [
    "import language_tool_python\n",
    "from deepmultilingualpunctuation import PunctuationModel\n",
    "from utils import text2int\n",
    "from nltk import tokenize\n",
    "from pprint import pprint"
   ]
  },
  {
   "cell_type": "code",
   "execution_count": 3,
   "id": "67d57b2e",
   "metadata": {},
   "outputs": [
    {
     "name": "stderr",
     "output_type": "stream",
     "text": [
      "Some weights of Wav2Vec2ForCTC were not initialized from the model checkpoint at facebook/wav2vec2-large-960h-lv60-self and are newly initialized: ['wav2vec2.masked_spec_embed']\n",
      "You should probably TRAIN this model on a down-stream task to be able to use it for predictions and inference.\n",
      "The model 'Wav2Vec2ForCTC' is not supported for automatic-speech-recognition. Supported models are [(<class 'transformers.models.speech_encoder_decoder.configuration_speech_encoder_decoder.SpeechEncoderDecoderConfig'>, <class 'transformers.models.speech_encoder_decoder.modeling_speech_encoder_decoder.SpeechEncoderDecoderModel'>), (<class 'transformers.models.speech_to_text.configuration_speech_to_text.Speech2TextConfig'>, <class 'transformers.models.speech_to_text.modeling_speech_to_text.Speech2TextForConditionalGeneration'>), (<class 'transformers.models.wav2vec2.configuration_wav2vec2.Wav2Vec2Config'>, <class 'transformers.models.wav2vec2.modeling_wav2vec2.Wav2Vec2ForCTC'>), (<class 'transformers.models.hubert.configuration_hubert.HubertConfig'>, <class 'transformers.models.hubert.modeling_hubert.HubertForCTC'>)].\n"
     ]
    }
   ],
   "source": [
    "pipe = pipeline(\"automatic-speech-recognition\", \"facebook/wav2vec2-large-960h-lv60-self\")\n",
    "# tokenizer = T5Tokenizer.from_pretrained(\"flexudy/t5-small-wav2vec2-grammar-fixer\")\n",
    "# post_model = T5ForConditionalGeneration.from_pretrained(\"flexudy/t5-small-wav2vec2-grammar-fixer\")"
   ]
  },
  {
   "cell_type": "code",
   "execution_count": 4,
   "id": "421c8254",
   "metadata": {},
   "outputs": [
    {
     "name": "stderr",
     "output_type": "stream",
     "text": [
      "C:\\Users\\Nazar\\anaconda3\\envs\\transformers\\lib\\site-packages\\transformers\\pipelines\\token_classification.py:128: UserWarning: `grouped_entities` is deprecated and will be removed in version v5.0.0, defaulted to `aggregation_strategy=\"AggregationStrategy.NONE\"` instead.\n",
      "  warnings.warn(\n"
     ]
    }
   ],
   "source": [
    "tool = language_tool_python.LanguageToolPublicAPI('en-US')\n",
    "rpunct = PunctuationModel()"
   ]
  },
  {
   "cell_type": "code",
   "execution_count": 5,
   "id": "3704957d",
   "metadata": {},
   "outputs": [
    {
     "name": "stdout",
     "output_type": "stream",
     "text": [
      "{'text': 'THIS IS A VERTICAL BAR CHART ANDTITLED COVID NINETEEN MORTALITY RATE '\n",
      "         'BY AGE THAT PLOTS MORTALITY RATE BY AGE MORTALITY RATE IS BLOTTED ON '\n",
      "         'THE VERTICAL Y AXIS FROM ZERO TO FIFTEEN PER CENT AGE IS PLOTTED ON '\n",
      "         'THE HORIZONTAL EX AXIS IN BROWN BEANS TEN TO NINETEEN TWENTY TO '\n",
      "         'TWENTY NINE THIRTY TO THIRTY NINE FORTY TO FORTY NINE FIFTY TO FIFTY '\n",
      "         'NINE SIXTY TO SIXTY NINE SEVENTY TO SEVENTY NINE EIGHTY PLUS THE '\n",
      "         'HIGHEST COBID NINETEEN MORTALITY RATE IS IN THE EIGHTY PLUS AH RANGE '\n",
      "         'WHILE THE LOWEST MORTALITY RATE IS IN TEN TO NINETEEN THE MORTALITY '\n",
      "         'RATE INCREASES WITH AGE ESPECIALLY AROUND FORTY TO FORTY NINE YEARS '\n",
      "         \"AND UPWARDS THIS RELATES TO PEOPLE'S DECREASE IN THEIR IMMUNITY AND \"\n",
      "         'THE INCREASE OF COMORBIDITY WITH AGE THE MORTALITY RATE INCREASES '\n",
      "         'EXPONENTIALLY WITH OLDER PEOPLE THERE IS NODIFFERENCE IN THE '\n",
      "         'MORTALITY RATE IN THE RANGE BETWEEN THE AGE OF TEN AND THIRTY NINE'}\n"
     ]
    }
   ],
   "source": [
    "res = pipe(\"sample.flac\")\n",
    "pprint(res)"
   ]
  },
  {
   "cell_type": "code",
   "execution_count": 19,
   "id": "034e414d",
   "metadata": {},
   "outputs": [
    {
     "name": "stdout",
     "output_type": "stream",
     "text": [
      "Found 3 mistakes.\n",
      "('THIS IS A VERTICAL BAR CHART ENTITLED COVID NINETEEN MORTALITY RATE BY AGE '\n",
      " 'THAT PLOTS MORTALITY RATE BY AGE MORTALITY RATE IS BLOTTED ON THE VERTICAL Y '\n",
      " 'AXIS FROM ZERO TO FIFTEEN PER CENT AGE IS PLOTTED ON THE HORIZONTAL EX AXIS '\n",
      " 'IN BROWN BEANS TEN TO NINETEEN TWENTY TO TWENTY NINE THIRTY TO THIRTY NINE '\n",
      " 'FORTY TO FORTY NINE FIFTY TO FIFTY NINE SIXTY TO SIXTY NINE SEVENTY TO '\n",
      " 'SEVENTY NINE EIGHTY PLUS THE HIGHEST COVID NINETEEN MORTALITY RATE IS IN THE '\n",
      " 'EIGHTY PLUS AH RANGE WHILE THE LOWEST MORTALITY RATE IS IN TEN TO NINETEEN '\n",
      " 'THE MORTALITY RATE INCREASES WITH AGE ESPECIALLY AROUND FORTY TO FORTY NINE '\n",
      " \"YEARS AND UPWARDS THIS RELATES TO PEOPLE'S DECREASE IN THEIR IMMUNITY AND \"\n",
      " 'THE INCREASE OF COMORBIDITY WITH AGE THE MORTALITY RATE INCREASES '\n",
      " 'EXPONENTIALLY WITH OLDER PEOPLE THERE IS DIFFERENCE IN THE MORTALITY RATE IN '\n",
      " 'THE RANGE BETWEEN THE AGE OF TEN AND THIRTY NINE')\n",
      "('this is a vertical bar chart entitled covid 19 mortality rate by age that '\n",
      " 'plots mortality rate by age mortality rate is blotted on the vertical y axis '\n",
      " 'from 0 to 15 per cent age is plotted on the horizontal ex axis in brown '\n",
      " 'beans 10 to 1920 to 2930 to 3940 to 4950 to 5960 to 6970 to 7980 plus the '\n",
      " 'highest covid 19 mortality rate is in the 80 plus ah range while the lowest '\n",
      " 'mortality rate is in 10 to 19 the mortality rate increases wi age especially '\n",
      " \"around 40 to 49 years and upwards this relates to people's decrease in their \"\n",
      " 'immunity and the increase of comorbidity wi age the mortality rate increases '\n",
      " 'exponentially wi older people there is difference in the mortality rate in '\n",
      " 'the range between the age of 10 and 39')\n",
      "('this is a vertical bar chart entitled covid 19 mortality rate by age that '\n",
      " 'plots mortality rate by age. mortality rate is blotted on the vertical y '\n",
      " 'axis from 0 to 15 per cent. age is plotted on the horizontal ex axis in '\n",
      " 'brown beans: 10 to 1920 to 2930 to 3940 to 4950 to 5960 to 6970 to 7980 '\n",
      " 'plus. the highest covid 19 mortality rate is in the 80 plus ah range, while '\n",
      " 'the lowest mortality rate is in 10 to 19. the mortality rate increases wi '\n",
      " \"age, especially around 40 to 49 years and upwards. this relates to people's \"\n",
      " 'decrease in their immunity and the increase of comorbidity. wi age. the '\n",
      " 'mortality rate increases exponentially wi older people. there is difference '\n",
      " 'in the mortality rate in the range between the age of 10 and 39.')\n",
      "('This is a vertical bar chart entitled covid 19 mortality rate by age that '\n",
      " 'plots mortality rate by age. Mortality rate is blotted on the vertical y '\n",
      " 'axis from 0 to 15 per cent. Age is plotted on the horizontal ex axis in '\n",
      " 'brown beans: 10 to 1920 to 2930 to 3940 to 4950 to 5960 to 6970 to 7980 '\n",
      " 'plus. The highest covid 19 mortality rate is in the 80 plus ah range, while '\n",
      " 'the lowest mortality rate is in 10 to 19. the mortality rate increases wi '\n",
      " \"age, especially around 40 to 49 years and upwards. This relates to people's \"\n",
      " 'decrease in their immunity and the increase of comorbidity. Wi age. The '\n",
      " 'mortality rate increases exponentially wi older people. There is difference '\n",
      " 'in the mortality rate in the range between the age of 10 and 39.')\n"
     ]
    }
   ],
   "source": [
    "text = res['text']\n",
    "\n",
    "matches = tool.check(text)\n",
    "text = language_tool_python.utils.correct(text, matches)\n",
    "print(f\"Found {len(matches)} mistakes.\")\n",
    "pprint(text)\n",
    "\n",
    "# input_text = \"fix: { \" + rpunct.restore_punctuation(text) + \" } </s>\"\n",
    "# input_ids = tokenizer.encode(input_text, return_tensors=\"pt\", max_length=512, truncation=True, add_special_tokens=True)\n",
    "# outputs = post_model.generate(\n",
    "#     input_ids=input_ids,\n",
    "#     max_length=512,\n",
    "#     num_beams=4,\n",
    "#     repetition_penalty=1.0,\n",
    "#     length_penalty=1.0,\n",
    "#     early_stopping=True\n",
    "# )\n",
    "# text = tokenizer.decode(outputs[0], skip_special_tokens=True, clean_up_tokenization_spaces=True)\n",
    "text = text2int(text.lower())\n",
    "pprint(text)\n",
    "text = rpunct.restore_punctuation(text)\n",
    "pprint(text)\n",
    "text = ' '.join([s.capitalize() for s in tokenize.sent_tokenize(text)])\n",
    "pprint(text)"
   ]
  },
  {
   "cell_type": "code",
   "execution_count": 7,
   "id": "edc6ddc3",
   "metadata": {},
   "outputs": [
    {
     "name": "stderr",
     "output_type": "stream",
     "text": [
      "Some weights of Wav2Vec2ForCTC were not initialized from the model checkpoint at facebook/wav2vec2-large-960h-lv60-self and are newly initialized: ['wav2vec2.masked_spec_embed']\n",
      "You should probably TRAIN this model on a down-stream task to be able to use it for predictions and inference.\n",
      "The model 'Wav2Vec2ForCTC' is not supported for automatic-speech-recognition. Supported models are [(<class 'transformers.models.speech_encoder_decoder.configuration_speech_encoder_decoder.SpeechEncoderDecoderConfig'>, <class 'transformers.models.speech_encoder_decoder.modeling_speech_encoder_decoder.SpeechEncoderDecoderModel'>), (<class 'transformers.models.speech_to_text.configuration_speech_to_text.Speech2TextConfig'>, <class 'transformers.models.speech_to_text.modeling_speech_to_text.Speech2TextForConditionalGeneration'>), (<class 'transformers.models.wav2vec2.configuration_wav2vec2.Wav2Vec2Config'>, <class 'transformers.models.wav2vec2.modeling_wav2vec2.Wav2Vec2ForCTC'>), (<class 'transformers.models.hubert.configuration_hubert.HubertConfig'>, <class 'transformers.models.hubert.modeling_hubert.HubertForCTC'>)].\n"
     ]
    }
   ],
   "source": [
    "from plot import plot"
   ]
  },
  {
   "cell_type": "code",
   "execution_count": 8,
   "id": "76f2cb9f",
   "metadata": {},
   "outputs": [
    {
     "name": "stdout",
     "output_type": "stream",
     "text": [
      "{'colors': 'brown beans',\n",
      " 'context': 'age',\n",
      " 'correlation': 'comorbidity',\n",
      " 'max': '80 plus ah range',\n",
      " 'mean': '6970 to 7980 plus',\n",
      " 'min': '10 to 19',\n",
      " 'title': 'covid 19 mortality rate by age',\n",
      " 'trends': 'covid 19 mortality rate by age that plots mortality rate by age',\n",
      " 'type': 'vertical bar',\n",
      " 'x-axis': 'Age',\n",
      " 'x-axis-range': '0 to 15 per cent',\n",
      " 'y-axis': 'Mortality rate',\n",
      " 'y-axis-range': '0 to 15 per cent'}\n"
     ]
    },
    {
     "ename": "ValueError",
     "evalue": "arrays must all be same length",
     "output_type": "error",
     "traceback": [
      "\u001b[1;31m---------------------------------------------------------------------------\u001b[0m",
      "\u001b[1;31mValueError\u001b[0m                                Traceback (most recent call last)",
      "Input \u001b[1;32mIn [8]\u001b[0m, in \u001b[0;36m<cell line: 1>\u001b[1;34m()\u001b[0m\n\u001b[1;32m----> 1\u001b[0m \u001b[43mplot\u001b[49m\u001b[43m(\u001b[49m\u001b[43mtext\u001b[49m\u001b[43m)\u001b[49m\n",
      "File \u001b[1;32m~\\PythonWorkspace\\mitacs\\Text2Chart\\plot.py:52\u001b[0m, in \u001b[0;36mplot\u001b[1;34m(text)\u001b[0m\n\u001b[0;32m     50\u001b[0m     answers[k] \u001b[38;5;241m=\u001b[39m ask_question(text, q)[\u001b[38;5;124m'\u001b[39m\u001b[38;5;124manswer\u001b[39m\u001b[38;5;124m'\u001b[39m]\n\u001b[0;32m     51\u001b[0m pprint(answers)\n\u001b[1;32m---> 52\u001b[0m tokens \u001b[38;5;241m=\u001b[39m \u001b[43mparse_answers\u001b[49m\u001b[43m(\u001b[49m\u001b[43manswers\u001b[49m\u001b[43m)\u001b[49m\n\u001b[0;32m     53\u001b[0m pprint(tokens)\n\u001b[0;32m     54\u001b[0m \u001b[38;5;28;01mif\u001b[39;00m \u001b[38;5;124m\"\u001b[39m\u001b[38;5;124mbar\u001b[39m\u001b[38;5;124m\"\u001b[39m \u001b[38;5;129;01min\u001b[39;00m tokens[\u001b[38;5;124m'\u001b[39m\u001b[38;5;124mtype\u001b[39m\u001b[38;5;124m'\u001b[39m]:\n",
      "File \u001b[1;32m~\\PythonWorkspace\\mitacs\\Text2Chart\\plot.py:43\u001b[0m, in \u001b[0;36mparse_answers\u001b[1;34m(answers)\u001b[0m\n\u001b[0;32m     41\u001b[0m     tokens[\u001b[38;5;124m'\u001b[39m\u001b[38;5;124mdata\u001b[39m\u001b[38;5;124m'\u001b[39m] \u001b[38;5;241m=\u001b[39m pd\u001b[38;5;241m.\u001b[39mDataFrame({tokens[\u001b[38;5;124m'\u001b[39m\u001b[38;5;124mx\u001b[39m\u001b[38;5;124m'\u001b[39m]: answers[\u001b[38;5;124m'\u001b[39m\u001b[38;5;124mx-axis-range\u001b[39m\u001b[38;5;124m'\u001b[39m]\u001b[38;5;241m.\u001b[39msplit(\u001b[38;5;124m'\u001b[39m\u001b[38;5;124m,\u001b[39m\u001b[38;5;124m'\u001b[39m), tokens[\u001b[38;5;124m'\u001b[39m\u001b[38;5;124my\u001b[39m\u001b[38;5;124m'\u001b[39m]: [\u001b[38;5;241m5\u001b[39m, \u001b[38;5;241m10\u001b[39m, \u001b[38;5;241m20\u001b[39m]})\n\u001b[0;32m     42\u001b[0m \u001b[38;5;28;01melse\u001b[39;00m:\n\u001b[1;32m---> 43\u001b[0m     tokens[\u001b[38;5;124m'\u001b[39m\u001b[38;5;124mdata\u001b[39m\u001b[38;5;124m'\u001b[39m] \u001b[38;5;241m=\u001b[39m \u001b[43mpd\u001b[49m\u001b[38;5;241;43m.\u001b[39;49m\u001b[43mDataFrame\u001b[49m\u001b[43m(\u001b[49m\u001b[43m{\u001b[49m\u001b[43mtokens\u001b[49m\u001b[43m[\u001b[49m\u001b[38;5;124;43m'\u001b[39;49m\u001b[38;5;124;43mx\u001b[39;49m\u001b[38;5;124;43m'\u001b[39;49m\u001b[43m]\u001b[49m\u001b[43m:\u001b[49m\u001b[43m \u001b[49m\u001b[43manswers\u001b[49m\u001b[43m[\u001b[49m\u001b[38;5;124;43m'\u001b[39;49m\u001b[38;5;124;43mx-axis-range\u001b[39;49m\u001b[38;5;124;43m'\u001b[39;49m\u001b[43m]\u001b[49m\u001b[38;5;241;43m.\u001b[39;49m\u001b[43msplit\u001b[49m\u001b[43m(\u001b[49m\u001b[38;5;124;43m'\u001b[39;49m\u001b[38;5;124;43m,\u001b[39;49m\u001b[38;5;124;43m'\u001b[39;49m\u001b[43m)\u001b[49m\u001b[43m,\u001b[49m\u001b[43m \u001b[49m\u001b[43mtokens\u001b[49m\u001b[43m[\u001b[49m\u001b[38;5;124;43m'\u001b[39;49m\u001b[38;5;124;43my\u001b[39;49m\u001b[38;5;124;43m'\u001b[39;49m\u001b[43m]\u001b[49m\u001b[43m:\u001b[49m\u001b[43m \u001b[49m\u001b[43m[\u001b[49m\u001b[38;5;241;43m20\u001b[39;49m\u001b[43m,\u001b[49m\u001b[43m \u001b[49m\u001b[38;5;241;43m10\u001b[39;49m\u001b[43m,\u001b[49m\u001b[43m \u001b[49m\u001b[38;5;241;43m5\u001b[39;49m\u001b[43m]\u001b[49m\u001b[43m}\u001b[49m\u001b[43m)\u001b[49m\n\u001b[0;32m     44\u001b[0m \u001b[38;5;28;01mreturn\u001b[39;00m tokens\n",
      "File \u001b[1;32m~\\anaconda3\\envs\\transformers\\lib\\site-packages\\pandas\\core\\frame.py:529\u001b[0m, in \u001b[0;36mDataFrame.__init__\u001b[1;34m(self, data, index, columns, dtype, copy)\u001b[0m\n\u001b[0;32m    524\u001b[0m     mgr \u001b[38;5;241m=\u001b[39m \u001b[38;5;28mself\u001b[39m\u001b[38;5;241m.\u001b[39m_init_mgr(\n\u001b[0;32m    525\u001b[0m         data, axes\u001b[38;5;241m=\u001b[39m{\u001b[38;5;124m\"\u001b[39m\u001b[38;5;124mindex\u001b[39m\u001b[38;5;124m\"\u001b[39m: index, \u001b[38;5;124m\"\u001b[39m\u001b[38;5;124mcolumns\u001b[39m\u001b[38;5;124m\"\u001b[39m: columns}, dtype\u001b[38;5;241m=\u001b[39mdtype, copy\u001b[38;5;241m=\u001b[39mcopy\n\u001b[0;32m    526\u001b[0m     )\n\u001b[0;32m    528\u001b[0m \u001b[38;5;28;01melif\u001b[39;00m \u001b[38;5;28misinstance\u001b[39m(data, \u001b[38;5;28mdict\u001b[39m):\n\u001b[1;32m--> 529\u001b[0m     mgr \u001b[38;5;241m=\u001b[39m \u001b[43minit_dict\u001b[49m\u001b[43m(\u001b[49m\u001b[43mdata\u001b[49m\u001b[43m,\u001b[49m\u001b[43m \u001b[49m\u001b[43mindex\u001b[49m\u001b[43m,\u001b[49m\u001b[43m \u001b[49m\u001b[43mcolumns\u001b[49m\u001b[43m,\u001b[49m\u001b[43m \u001b[49m\u001b[43mdtype\u001b[49m\u001b[38;5;241;43m=\u001b[39;49m\u001b[43mdtype\u001b[49m\u001b[43m)\u001b[49m\n\u001b[0;32m    530\u001b[0m \u001b[38;5;28;01melif\u001b[39;00m \u001b[38;5;28misinstance\u001b[39m(data, ma\u001b[38;5;241m.\u001b[39mMaskedArray):\n\u001b[0;32m    531\u001b[0m     \u001b[38;5;28;01mimport\u001b[39;00m \u001b[38;5;21;01mnumpy\u001b[39;00m\u001b[38;5;21;01m.\u001b[39;00m\u001b[38;5;21;01mma\u001b[39;00m\u001b[38;5;21;01m.\u001b[39;00m\u001b[38;5;21;01mmrecords\u001b[39;00m \u001b[38;5;28;01mas\u001b[39;00m \u001b[38;5;21;01mmrecords\u001b[39;00m\n",
      "File \u001b[1;32m~\\anaconda3\\envs\\transformers\\lib\\site-packages\\pandas\\core\\internals\\construction.py:287\u001b[0m, in \u001b[0;36minit_dict\u001b[1;34m(data, index, columns, dtype)\u001b[0m\n\u001b[0;32m    281\u001b[0m     arrays \u001b[38;5;241m=\u001b[39m [\n\u001b[0;32m    282\u001b[0m         arr \u001b[38;5;28;01mif\u001b[39;00m \u001b[38;5;129;01mnot\u001b[39;00m \u001b[38;5;28misinstance\u001b[39m(arr, ABCIndexClass) \u001b[38;5;28;01melse\u001b[39;00m arr\u001b[38;5;241m.\u001b[39m_data \u001b[38;5;28;01mfor\u001b[39;00m arr \u001b[38;5;129;01min\u001b[39;00m arrays\n\u001b[0;32m    283\u001b[0m     ]\n\u001b[0;32m    284\u001b[0m     arrays \u001b[38;5;241m=\u001b[39m [\n\u001b[0;32m    285\u001b[0m         arr \u001b[38;5;28;01mif\u001b[39;00m \u001b[38;5;129;01mnot\u001b[39;00m is_datetime64tz_dtype(arr) \u001b[38;5;28;01melse\u001b[39;00m arr\u001b[38;5;241m.\u001b[39mcopy() \u001b[38;5;28;01mfor\u001b[39;00m arr \u001b[38;5;129;01min\u001b[39;00m arrays\n\u001b[0;32m    286\u001b[0m     ]\n\u001b[1;32m--> 287\u001b[0m \u001b[38;5;28;01mreturn\u001b[39;00m \u001b[43marrays_to_mgr\u001b[49m\u001b[43m(\u001b[49m\u001b[43marrays\u001b[49m\u001b[43m,\u001b[49m\u001b[43m \u001b[49m\u001b[43mdata_names\u001b[49m\u001b[43m,\u001b[49m\u001b[43m \u001b[49m\u001b[43mindex\u001b[49m\u001b[43m,\u001b[49m\u001b[43m \u001b[49m\u001b[43mcolumns\u001b[49m\u001b[43m,\u001b[49m\u001b[43m \u001b[49m\u001b[43mdtype\u001b[49m\u001b[38;5;241;43m=\u001b[39;49m\u001b[43mdtype\u001b[49m\u001b[43m)\u001b[49m\n",
      "File \u001b[1;32m~\\anaconda3\\envs\\transformers\\lib\\site-packages\\pandas\\core\\internals\\construction.py:80\u001b[0m, in \u001b[0;36marrays_to_mgr\u001b[1;34m(arrays, arr_names, index, columns, dtype, verify_integrity)\u001b[0m\n\u001b[0;32m     77\u001b[0m \u001b[38;5;28;01mif\u001b[39;00m verify_integrity:\n\u001b[0;32m     78\u001b[0m     \u001b[38;5;66;03m# figure out the index, if necessary\u001b[39;00m\n\u001b[0;32m     79\u001b[0m     \u001b[38;5;28;01mif\u001b[39;00m index \u001b[38;5;129;01mis\u001b[39;00m \u001b[38;5;28;01mNone\u001b[39;00m:\n\u001b[1;32m---> 80\u001b[0m         index \u001b[38;5;241m=\u001b[39m \u001b[43mextract_index\u001b[49m\u001b[43m(\u001b[49m\u001b[43marrays\u001b[49m\u001b[43m)\u001b[49m\n\u001b[0;32m     81\u001b[0m     \u001b[38;5;28;01melse\u001b[39;00m:\n\u001b[0;32m     82\u001b[0m         index \u001b[38;5;241m=\u001b[39m ensure_index(index)\n",
      "File \u001b[1;32m~\\anaconda3\\envs\\transformers\\lib\\site-packages\\pandas\\core\\internals\\construction.py:401\u001b[0m, in \u001b[0;36mextract_index\u001b[1;34m(data)\u001b[0m\n\u001b[0;32m    399\u001b[0m lengths \u001b[38;5;241m=\u001b[39m \u001b[38;5;28mlist\u001b[39m(\u001b[38;5;28mset\u001b[39m(raw_lengths))\n\u001b[0;32m    400\u001b[0m \u001b[38;5;28;01mif\u001b[39;00m \u001b[38;5;28mlen\u001b[39m(lengths) \u001b[38;5;241m>\u001b[39m \u001b[38;5;241m1\u001b[39m:\n\u001b[1;32m--> 401\u001b[0m     \u001b[38;5;28;01mraise\u001b[39;00m \u001b[38;5;167;01mValueError\u001b[39;00m(\u001b[38;5;124m\"\u001b[39m\u001b[38;5;124marrays must all be same length\u001b[39m\u001b[38;5;124m\"\u001b[39m)\n\u001b[0;32m    403\u001b[0m \u001b[38;5;28;01mif\u001b[39;00m have_dicts:\n\u001b[0;32m    404\u001b[0m     \u001b[38;5;28;01mraise\u001b[39;00m \u001b[38;5;167;01mValueError\u001b[39;00m(\n\u001b[0;32m    405\u001b[0m         \u001b[38;5;124m\"\u001b[39m\u001b[38;5;124mMixing dicts with non-Series may lead to ambiguous ordering.\u001b[39m\u001b[38;5;124m\"\u001b[39m\n\u001b[0;32m    406\u001b[0m     )\n",
      "\u001b[1;31mValueError\u001b[0m: arrays must all be same length"
     ]
    }
   ],
   "source": [
    "plot(text)"
   ]
  },
  {
   "cell_type": "code",
   "execution_count": null,
   "id": "d3e34237",
   "metadata": {},
   "outputs": [],
   "source": []
  }
 ],
 "metadata": {
  "kernelspec": {
   "display_name": "Python 3 (ipykernel)",
   "language": "python",
   "name": "python3"
  },
  "language_info": {
   "codemirror_mode": {
    "name": "ipython",
    "version": 3
   },
   "file_extension": ".py",
   "mimetype": "text/x-python",
   "name": "python",
   "nbconvert_exporter": "python",
   "pygments_lexer": "ipython3",
   "version": "3.8.12"
  }
 },
 "nbformat": 4,
 "nbformat_minor": 5
}
